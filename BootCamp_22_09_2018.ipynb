{
 "cells": [
  {
   "cell_type": "markdown",
   "metadata": {},
   "source": [
    "# Progamowanie obiektowe"
   ]
  },
  {
   "cell_type": "markdown",
   "metadata": {},
   "source": [
    "* Pola/Atrybuty to tak naprawde mienne.\n",
    "* Metody to funkcje\n",
    "\n",
    "## Przykład:\n",
    "\n",
    "* Klasa człowiek\n",
    "     * Posiada atrybuty:\n",
    "        * Imie\n",
    "        * Nazwisko\n",
    "        * Waga\n",
    "        * Wiek\n",
    "     * Posiada metody:\n",
    "        * Jeść\n",
    "        * Pić\n",
    "        * Spać"
   ]
  },
  {
   "cell_type": "markdown",
   "metadata": {},
   "source": [
    "## Definiowanie klasy"
   ]
  },
  {
   "cell_type": "markdown",
   "metadata": {},
   "source": [
    "### Klasa pusta"
   ]
  },
  {
   "cell_type": "code",
   "execution_count": 1,
   "metadata": {
    "collapsed": true
   },
   "outputs": [],
   "source": [
    "class Czlowiek:\n",
    "    pass"
   ]
  },
  {
   "cell_type": "markdown",
   "metadata": {},
   "source": [
    "### Klasa z konstruktorem"
   ]
  },
  {
   "cell_type": "code",
   "execution_count": 2,
   "metadata": {
    "collapsed": true
   },
   "outputs": [],
   "source": [
    "class Czlowiek:\n",
    "    # Ponizej definicja konstruktora\n",
    "    def __init__(self, imie, nazwisko, waga):\n",
    "        self.imie = imie\n",
    "        self.nazwisko = nazwisko\n",
    "        self.waga = waga"
   ]
  },
  {
   "cell_type": "markdown",
   "metadata": {},
   "source": [
    "### Jak używać atrbutów"
   ]
  },
  {
   "cell_type": "code",
   "execution_count": 3,
   "metadata": {
    "collapsed": true
   },
   "outputs": [],
   "source": [
    "adam = Czlowiek('Adam', 'Nowak',  80 )"
   ]
  },
  {
   "cell_type": "code",
   "execution_count": 4,
   "metadata": {
    "collapsed": false
   },
   "outputs": [
    {
     "data": {
      "text/plain": [
       "'Adam'"
      ]
     },
     "execution_count": 4,
     "metadata": {},
     "output_type": "execute_result"
    }
   ],
   "source": [
    "adam.imie"
   ]
  },
  {
   "cell_type": "code",
   "execution_count": 5,
   "metadata": {
    "collapsed": false
   },
   "outputs": [
    {
     "data": {
      "text/plain": [
       "('Adam', 80)"
      ]
     },
     "execution_count": 5,
     "metadata": {},
     "output_type": "execute_result"
    }
   ],
   "source": [
    "adam.imie, adam.waga"
   ]
  },
  {
   "cell_type": "code",
   "execution_count": 6,
   "metadata": {
    "collapsed": true
   },
   "outputs": [],
   "source": [
    "adam.waga = adam.waga - 15"
   ]
  },
  {
   "cell_type": "code",
   "execution_count": 7,
   "metadata": {
    "collapsed": false
   },
   "outputs": [
    {
     "data": {
      "text/plain": [
       "65"
      ]
     },
     "execution_count": 7,
     "metadata": {},
     "output_type": "execute_result"
    }
   ],
   "source": [
    "adam.waga"
   ]
  },
  {
   "cell_type": "code",
   "execution_count": 8,
   "metadata": {
    "collapsed": false
   },
   "outputs": [
    {
     "data": {
      "text/plain": [
       "{'imie': 'Adam', 'nazwisko': 'Nowak', 'waga': 65}"
      ]
     },
     "execution_count": 8,
     "metadata": {},
     "output_type": "execute_result"
    }
   ],
   "source": [
    "adam.__dict__"
   ]
  },
  {
   "cell_type": "code",
   "execution_count": 9,
   "metadata": {
    "collapsed": false
   },
   "outputs": [
    {
     "data": {
      "text/plain": [
       "['__class__',\n",
       " '__delattr__',\n",
       " '__dict__',\n",
       " '__dir__',\n",
       " '__doc__',\n",
       " '__eq__',\n",
       " '__format__',\n",
       " '__ge__',\n",
       " '__getattribute__',\n",
       " '__gt__',\n",
       " '__hash__',\n",
       " '__init__',\n",
       " '__init_subclass__',\n",
       " '__le__',\n",
       " '__lt__',\n",
       " '__module__',\n",
       " '__ne__',\n",
       " '__new__',\n",
       " '__reduce__',\n",
       " '__reduce_ex__',\n",
       " '__repr__',\n",
       " '__setattr__',\n",
       " '__sizeof__',\n",
       " '__str__',\n",
       " '__subclasshook__',\n",
       " '__weakref__',\n",
       " 'imie',\n",
       " 'nazwisko',\n",
       " 'waga']"
      ]
     },
     "execution_count": 9,
     "metadata": {},
     "output_type": "execute_result"
    }
   ],
   "source": [
    "dir(adam)"
   ]
  },
  {
   "cell_type": "code",
   "execution_count": 10,
   "metadata": {
    "collapsed": false
   },
   "outputs": [
    {
     "name": "stdout",
     "output_type": "stream",
     "text": [
      "Help on Czlowiek in module __main__ object:\n",
      "\n",
      "class Czlowiek(builtins.object)\n",
      " |  Methods defined here:\n",
      " |  \n",
      " |  __init__(self, imie, nazwisko, waga)\n",
      " |      Initialize self.  See help(type(self)) for accurate signature.\n",
      " |  \n",
      " |  ----------------------------------------------------------------------\n",
      " |  Data descriptors defined here:\n",
      " |  \n",
      " |  __dict__\n",
      " |      dictionary for instance variables (if defined)\n",
      " |  \n",
      " |  __weakref__\n",
      " |      list of weak references to the object (if defined)\n",
      "\n"
     ]
    }
   ],
   "source": [
    "help(adam)"
   ]
  },
  {
   "cell_type": "code",
   "execution_count": 11,
   "metadata": {
    "collapsed": false
   },
   "outputs": [
    {
     "data": {
      "text/plain": [
       "'słowo 123'"
      ]
     },
     "execution_count": 11,
     "metadata": {},
     "output_type": "execute_result"
    }
   ],
   "source": [
    "\"słowo 123\""
   ]
  },
  {
   "cell_type": "code",
   "execution_count": 12,
   "metadata": {
    "collapsed": false
   },
   "outputs": [
    {
     "data": {
      "text/plain": [
       "str"
      ]
     },
     "execution_count": 12,
     "metadata": {},
     "output_type": "execute_result"
    }
   ],
   "source": [
    "type(\"słowo 123\")"
   ]
  },
  {
   "cell_type": "code",
   "execution_count": 13,
   "metadata": {
    "collapsed": false
   },
   "outputs": [
    {
     "data": {
      "text/plain": [
       "'SŁOWO 123'"
      ]
     },
     "execution_count": 13,
     "metadata": {},
     "output_type": "execute_result"
    }
   ],
   "source": [
    "\"słowo 123\".upper()"
   ]
  },
  {
   "cell_type": "code",
   "execution_count": 14,
   "metadata": {
    "collapsed": true
   },
   "outputs": [],
   "source": [
    "?isinstance\n"
   ]
  },
  {
   "cell_type": "code",
   "execution_count": 19,
   "metadata": {
    "collapsed": false
   },
   "outputs": [
    {
     "data": {
      "text/plain": [
       "True"
      ]
     },
     "execution_count": 19,
     "metadata": {},
     "output_type": "execute_result"
    }
   ],
   "source": [
    "isinstance(adam, Czlowiek)"
   ]
  },
  {
   "cell_type": "code",
   "execution_count": 21,
   "metadata": {
    "collapsed": true
   },
   "outputs": [],
   "source": [
    "class Samochod:\n",
    "    def __init__(self, marka, model, kolor, przebieg):\n",
    "        self.marka = marka\n",
    "        self.model = model\n",
    "        self.kolor = kolor\n",
    "        self.przebieg = przebieg\n"
   ]
  },
  {
   "cell_type": "code",
   "execution_count": 22,
   "metadata": {
    "collapsed": true
   },
   "outputs": [],
   "source": [
    "mazda = Samochod('mazda','6', 'czerwony', 13000)"
   ]
  },
  {
   "cell_type": "code",
   "execution_count": 23,
   "metadata": {
    "collapsed": false
   },
   "outputs": [
    {
     "data": {
      "text/plain": [
       "False"
      ]
     },
     "execution_count": 23,
     "metadata": {},
     "output_type": "execute_result"
    }
   ],
   "source": [
    "isinstance (adam, Samochod)"
   ]
  },
  {
   "cell_type": "code",
   "execution_count": 27,
   "metadata": {
    "collapsed": false
   },
   "outputs": [
    {
     "data": {
      "text/plain": [
       "__main__.Samochod"
      ]
     },
     "execution_count": 27,
     "metadata": {},
     "output_type": "execute_result"
    }
   ],
   "source": [
    "mazda.__class__"
   ]
  },
  {
   "cell_type": "code",
   "execution_count": 26,
   "metadata": {
    "collapsed": false
   },
   "outputs": [
    {
     "ename": "NameError",
     "evalue": "name '___main__' is not defined",
     "output_type": "error",
     "traceback": [
      "\u001b[0;31m---------------------------------------------------------------------------\u001b[0m",
      "\u001b[0;31mNameError\u001b[0m                                 Traceback (most recent call last)",
      "\u001b[0;32m<ipython-input-26-62159fa4509d>\u001b[0m in \u001b[0;36m<module>\u001b[0;34m()\u001b[0m\n\u001b[0;32m----> 1\u001b[0;31m \u001b[0m___main__\u001b[0m\u001b[0;34m.\u001b[0m\u001b[0mSamochod\u001b[0m\u001b[0;34m\u001b[0m\u001b[0m\n\u001b[0m",
      "\u001b[0;31mNameError\u001b[0m: name '___main__' is not defined"
     ]
    }
   ],
   "source": [
    "___main__.Samochod"
   ]
  },
  {
   "cell_type": "code",
   "execution_count": 36,
   "metadata": {
    "collapsed": true
   },
   "outputs": [],
   "source": [
    "class Samochod:\n",
    "    def __init__(self, marka, model, kolor, przebieg):\n",
    "        self.marka = marka\n",
    "        self.model = model\n",
    "        self.kolor = kolor\n",
    "        self.przebieg = przebieg\n",
    "    def full_name(self):\n",
    "        print (\"To jest {} {}\".format(self.marka, self.model))"
   ]
  },
  {
   "cell_type": "code",
   "execution_count": 37,
   "metadata": {
    "collapsed": true
   },
   "outputs": [],
   "source": [
    "mazda = Samochod('mazda','6', 'czerwony', 13000)"
   ]
  },
  {
   "cell_type": "code",
   "execution_count": 38,
   "metadata": {
    "collapsed": false
   },
   "outputs": [
    {
     "name": "stdout",
     "output_type": "stream",
     "text": [
      "To jest mazda 6\n"
     ]
    }
   ],
   "source": [
    "mazda.full_name()"
   ]
  },
  {
   "cell_type": "markdown",
   "metadata": {},
   "source": [
    "# Zmienne klasy"
   ]
  },
  {
   "cell_type": "code",
   "execution_count": 40,
   "metadata": {
    "collapsed": true
   },
   "outputs": [],
   "source": [
    "class Samochod:\n",
    "    ILOSC_KOL = 4 \n",
    "    def __init__(self, marka, model, kolor, przebieg):\n",
    "        self.marka = marka\n",
    "        self.model = model\n",
    "        self.kolor = kolor\n",
    "        self.przebieg = przebieg\n",
    "    def full_name(self):\n",
    "        print (\"To jest {} {}\".format(self.marka, self.model))"
   ]
  },
  {
   "cell_type": "code",
   "execution_count": 41,
   "metadata": {
    "collapsed": false
   },
   "outputs": [
    {
     "data": {
      "text/plain": [
       "4"
      ]
     },
     "execution_count": 41,
     "metadata": {},
     "output_type": "execute_result"
    }
   ],
   "source": [
    "Samochod.ILOSC_KOL"
   ]
  },
  {
   "cell_type": "code",
   "execution_count": 42,
   "metadata": {
    "collapsed": false
   },
   "outputs": [
    {
     "ename": "AttributeError",
     "evalue": "type object 'Samochod' has no attribute 'marka'",
     "output_type": "error",
     "traceback": [
      "\u001b[0;31m---------------------------------------------------------------------------\u001b[0m",
      "\u001b[0;31mAttributeError\u001b[0m                            Traceback (most recent call last)",
      "\u001b[0;32m<ipython-input-42-94dd7afcddd4>\u001b[0m in \u001b[0;36m<module>\u001b[0;34m()\u001b[0m\n\u001b[0;32m----> 1\u001b[0;31m \u001b[0mSamochod\u001b[0m\u001b[0;34m.\u001b[0m\u001b[0mmarka\u001b[0m\u001b[0;34m\u001b[0m\u001b[0m\n\u001b[0m",
      "\u001b[0;31mAttributeError\u001b[0m: type object 'Samochod' has no attribute 'marka'"
     ]
    }
   ],
   "source": [
    "Samochod.marka"
   ]
  },
  {
   "cell_type": "code",
   "execution_count": 43,
   "metadata": {
    "collapsed": true
   },
   "outputs": [],
   "source": [
    "mazda = Samochod('mazda','6', 'czerwony', 13000)"
   ]
  },
  {
   "cell_type": "code",
   "execution_count": 44,
   "metadata": {
    "collapsed": false
   },
   "outputs": [
    {
     "data": {
      "text/plain": [
       "4"
      ]
     },
     "execution_count": 44,
     "metadata": {},
     "output_type": "execute_result"
    }
   ],
   "source": [
    "mazda.ILOSC_KOL"
   ]
  },
  {
   "cell_type": "code",
   "execution_count": 46,
   "metadata": {
    "collapsed": false
   },
   "outputs": [],
   "source": [
    "scania = Samochod('Scania', 'cos', 'niebieski', 154000)"
   ]
  },
  {
   "cell_type": "code",
   "execution_count": 48,
   "metadata": {
    "collapsed": true
   },
   "outputs": [],
   "source": [
    "scania.ILOSC_KOL = 6\n"
   ]
  },
  {
   "cell_type": "code",
   "execution_count": 49,
   "metadata": {
    "collapsed": false
   },
   "outputs": [
    {
     "data": {
      "text/plain": [
       "6"
      ]
     },
     "execution_count": 49,
     "metadata": {},
     "output_type": "execute_result"
    }
   ],
   "source": [
    "scania.ILOSC_KOL"
   ]
  },
  {
   "cell_type": "markdown",
   "metadata": {},
   "source": [
    "## Pola"
   ]
  },
  {
   "cell_type": "code",
   "execution_count": 50,
   "metadata": {
    "collapsed": true
   },
   "outputs": [],
   "source": [
    "class Samochod:\n",
    "    ILOSC_KOL = 4 \n",
    "    def __init__(self, marka, model, kolor, przebieg):\n",
    "        self.marka = marka\n",
    "        self.model = model\n",
    "        self.kolor = kolor\n",
    "        self.przebieg = przebieg\n",
    "    @property\n",
    "    def full_name(self):\n",
    "        print (\"To jest {} {}\".format(self.marka, self.model))"
   ]
  },
  {
   "cell_type": "code",
   "execution_count": 51,
   "metadata": {
    "collapsed": true
   },
   "outputs": [],
   "source": [
    "scania = Samochod('Scania', 'cos', 'niebieski', 154000)"
   ]
  },
  {
   "cell_type": "code",
   "execution_count": 53,
   "metadata": {
    "collapsed": false
   },
   "outputs": [
    {
     "name": "stdout",
     "output_type": "stream",
     "text": [
      "To jest Scania cos\n"
     ]
    }
   ],
   "source": [
    "scania.full_name\n",
    "#dzieki property zmieniamy funkcje w atrybut"
   ]
  },
  {
   "cell_type": "code",
   "execution_count": 54,
   "metadata": {
    "collapsed": false
   },
   "outputs": [
    {
     "name": "stdout",
     "output_type": "stream",
     "text": [
      "To jest Scania cos\n"
     ]
    },
    {
     "ename": "TypeError",
     "evalue": "'NoneType' object is not callable",
     "output_type": "error",
     "traceback": [
      "\u001b[0;31m---------------------------------------------------------------------------\u001b[0m",
      "\u001b[0;31mTypeError\u001b[0m                                 Traceback (most recent call last)",
      "\u001b[0;32m<ipython-input-54-468c811c7ef0>\u001b[0m in \u001b[0;36m<module>\u001b[0;34m()\u001b[0m\n\u001b[0;32m----> 1\u001b[0;31m \u001b[0mscania\u001b[0m\u001b[0;34m.\u001b[0m\u001b[0mfull_name\u001b[0m\u001b[0;34m(\u001b[0m\u001b[0;34m)\u001b[0m\u001b[0;34m\u001b[0m\u001b[0m\n\u001b[0m",
      "\u001b[0;31mTypeError\u001b[0m: 'NoneType' object is not callable"
     ]
    }
   ],
   "source": [
    "scania.full_name()"
   ]
  },
  {
   "cell_type": "markdown",
   "metadata": {},
   "source": [
    "## Metody specjalne na klasach"
   ]
  },
  {
   "cell_type": "code",
   "execution_count": 55,
   "metadata": {
    "collapsed": true
   },
   "outputs": [],
   "source": [
    "class Samochod:\n",
    "    ILOSC_KOL = 4 \n",
    "    def __init__(self, marka, model, kolor, przebieg):\n",
    "        self.marka = marka\n",
    "        self.model = model\n",
    "        self.kolor = kolor\n",
    "        self.przebieg = przebieg\n",
    "    @property\n",
    "    def full_name(self):\n",
    "        print (\"To jest {} {}\".format(self.marka, self.model))"
   ]
  },
  {
   "cell_type": "code",
   "execution_count": 56,
   "metadata": {
    "collapsed": true
   },
   "outputs": [],
   "source": [
    "scania = Samochod('Scania', 'cos', 'niebieski', 154000)"
   ]
  },
  {
   "cell_type": "code",
   "execution_count": 57,
   "metadata": {
    "collapsed": false
   },
   "outputs": [
    {
     "data": {
      "text/plain": [
       "__main__.Samochod"
      ]
     },
     "execution_count": 57,
     "metadata": {},
     "output_type": "execute_result"
    }
   ],
   "source": [
    "type(scania)"
   ]
  },
  {
   "cell_type": "code",
   "execution_count": 58,
   "metadata": {
    "collapsed": false
   },
   "outputs": [
    {
     "data": {
      "text/plain": [
       "'<__main__.Samochod object at 0x7f0148626048>'"
      ]
     },
     "execution_count": 58,
     "metadata": {},
     "output_type": "execute_result"
    }
   ],
   "source": [
    "str(scania)"
   ]
  },
  {
   "cell_type": "code",
   "execution_count": 61,
   "metadata": {
    "collapsed": false
   },
   "outputs": [],
   "source": [
    "class Samochod:\n",
    "    ILOSC_KOL = 4 \n",
    "    def __init__(self, marka, model, kolor, przebieg):\n",
    "        self.marka = marka\n",
    "        self.model = model\n",
    "        self.kolor = kolor\n",
    "        self.przebieg = przebieg\n",
    "    @property\n",
    "    def full_name(self):\n",
    "        return \"To jest {} {}\".format(self.marka, self.model)\n",
    "        \n",
    "    #metody specjane __str__\n",
    "    def __str__(self):\n",
    "        return self.full_name"
   ]
  },
  {
   "cell_type": "code",
   "execution_count": 62,
   "metadata": {
    "collapsed": true
   },
   "outputs": [],
   "source": [
    "scania = Samochod('Scania', 'cos', 'niebieski', 154000)"
   ]
  },
  {
   "cell_type": "code",
   "execution_count": 63,
   "metadata": {
    "collapsed": false
   },
   "outputs": [
    {
     "data": {
      "text/plain": [
       "'To jest Scania cos'"
      ]
     },
     "execution_count": 63,
     "metadata": {},
     "output_type": "execute_result"
    }
   ],
   "source": [
    "str(scania)"
   ]
  },
  {
   "cell_type": "code",
   "execution_count": 67,
   "metadata": {
    "collapsed": false
   },
   "outputs": [
    {
     "data": {
      "text/plain": [
       "False"
      ]
     },
     "execution_count": 67,
     "metadata": {},
     "output_type": "execute_result"
    }
   ],
   "source": [
    "bool(scania)"
   ]
  },
  {
   "cell_type": "code",
   "execution_count": 64,
   "metadata": {
    "collapsed": true
   },
   "outputs": [],
   "source": [
    "class Samochod:\n",
    "    ILOSC_KOL = 4 \n",
    "    def __init__(self, marka, model, kolor, przebieg):\n",
    "        self.marka = marka\n",
    "        self.model = model\n",
    "        self.kolor = kolor\n",
    "        self.przebieg = przebieg\n",
    "    @property\n",
    "    def full_name(self):\n",
    "        return \"To jest {} {}\".format(self.marka, self.model)\n",
    "        \n",
    "    #metody specjane __str__\n",
    "    def __str__(self):\n",
    "        return self.full_name\n",
    "    def __bool__ (self):\n",
    "        return False"
   ]
  },
  {
   "cell_type": "code",
   "execution_count": 65,
   "metadata": {
    "collapsed": true
   },
   "outputs": [],
   "source": [
    "scania = Samochod('Scania', 'cos', 'niebieski', 154000)"
   ]
  },
  {
   "cell_type": "code",
   "execution_count": 66,
   "metadata": {
    "collapsed": false
   },
   "outputs": [
    {
     "data": {
      "text/plain": [
       "False"
      ]
     },
     "execution_count": 66,
     "metadata": {},
     "output_type": "execute_result"
    }
   ],
   "source": [
    "bool(scania)"
   ]
  },
  {
   "cell_type": "markdown",
   "metadata": {},
   "source": [
    "### Zadanie"
   ]
  },
  {
   "cell_type": "code",
   "execution_count": 145,
   "metadata": {
    "collapsed": false
   },
   "outputs": [
    {
     "ename": "SyntaxError",
     "evalue": "invalid syntax (<ipython-input-145-558de67f608d>, line 21)",
     "output_type": "error",
     "traceback": [
      "\u001b[0;36m  File \u001b[0;32m\"<ipython-input-145-558de67f608d>\"\u001b[0;36m, line \u001b[0;32m21\u001b[0m\n\u001b[0;31m    def __str__(self):\u001b[0m\n\u001b[0m      ^\u001b[0m\n\u001b[0;31mSyntaxError\u001b[0m\u001b[0;31m:\u001b[0m invalid syntax\n"
     ]
    }
   ],
   "source": [
    "class Czlowiek(): \n",
    "    def __init__(self, imie, wzrost, waga,  kolor_oczu):\n",
    "        self.imie = imie\n",
    "        self.wzrost = wzrost\n",
    "        self.waga = waga\n",
    "        self.kolor_oczu = kolor_oczu\n",
    "    \n",
    "    @property\n",
    "    def wyswietl_dane(self):\n",
    "        return ('To jest {} ma {} cm wzrostu waży {} kg  '.format(self.imie, self.wzrost, self.waga))\n",
    "    \n",
    "    def czy_wysoki (self):\n",
    "        if self.wzrost > 160:\n",
    "            print ('{} jest wysoki'.format(self.imie))\n",
    "        else:\n",
    "            print ('{} jest niski'.format(self.imie))\n",
    "            \n",
    "    def __repr__(self):\n",
    "        return ('To jest {} ma {} cm wzrostu waży {} kg'.format(self.imie, self.wzrost, self.waga)\n",
    "        \n",
    "    def __str__(self):\n",
    "        return 'To jest {} ma {} cm wzrostu waży {} kg'.format(self.imie, self.wzrost, self.waga\n",
    "        \n",
    "    \n",
    "        \n",
    "        \n",
    "        \n",
    "        \n",
    "        "
   ]
  },
  {
   "cell_type": "code",
   "execution_count": 142,
   "metadata": {
    "collapsed": false
   },
   "outputs": [],
   "source": [
    "wojtek = Czlowiek('Wojtek', 179, 98, 'czerwone')"
   ]
  },
  {
   "cell_type": "code",
   "execution_count": 143,
   "metadata": {
    "collapsed": false
   },
   "outputs": [
    {
     "data": {
      "text/plain": [
       "'To jest Wojtek ma 179 cm wzrostu waży 98 kg  '"
      ]
     },
     "execution_count": 143,
     "metadata": {},
     "output_type": "execute_result"
    }
   ],
   "source": [
    "wojtek.wyswietl_dane"
   ]
  },
  {
   "cell_type": "code",
   "execution_count": 144,
   "metadata": {
    "collapsed": false
   },
   "outputs": [
    {
     "name": "stdout",
     "output_type": "stream",
     "text": [
      "Wojtek jest wysoki\n"
     ]
    }
   ],
   "source": [
    "wojtek.czy_wysoki()"
   ]
  },
  {
   "cell_type": "code",
   "execution_count": 140,
   "metadata": {
    "collapsed": false,
    "scrolled": true
   },
   "outputs": [
    {
     "ename": "NameError",
     "evalue": "name '__repr__' is not defined",
     "output_type": "error",
     "traceback": [
      "\u001b[0;31m---------------------------------------------------------------------------\u001b[0m",
      "\u001b[0;31mNameError\u001b[0m                                 Traceback (most recent call last)",
      "\u001b[0;32m<ipython-input-140-6c1ee365125a>\u001b[0m in \u001b[0;36m<module>\u001b[0;34m()\u001b[0m\n\u001b[0;32m----> 1\u001b[0;31m \u001b[0m__repr__\u001b[0m\u001b[0;34m(\u001b[0m\u001b[0mwojtek\u001b[0m\u001b[0;34m)\u001b[0m\u001b[0;34m\u001b[0m\u001b[0m\n\u001b[0m",
      "\u001b[0;31mNameError\u001b[0m: name '__repr__' is not defined"
     ]
    }
   ],
   "source": [
    "__repr__(wojtek)\n"
   ]
  },
  {
   "cell_type": "markdown",
   "metadata": {},
   "source": [
    "## Porównanie class"
   ]
  },
  {
   "cell_type": "code",
   "execution_count": 157,
   "metadata": {
    "collapsed": true
   },
   "outputs": [],
   "source": [
    "class Samochod:\n",
    "    ILOSC_KOL = 4 \n",
    "    def __init__(self, marka, model, kolor, przebieg, moc):\n",
    "        self.marka = marka\n",
    "        self.model = model\n",
    "        self.kolor = kolor\n",
    "        self.przebieg = przebieg\n",
    "        self.moc = moc\n",
    "    @property\n",
    "    def full_name(self):\n",
    "        return \"To jest {} {}\".format(self.marka, self.model)\n",
    "        \n",
    "    #metody specjane __str__\n",
    "    def __str__(self):\n",
    "        return self.full_name\n",
    "    def __bool__ (self):\n",
    "        return False\n",
    "    \n",
    "    def __gt__ (self, other):\n",
    "        return self.moc > other.moc\n",
    "    \n",
    "    def \n",
    "        "
   ]
  },
  {
   "cell_type": "code",
   "execution_count": 158,
   "metadata": {
    "collapsed": true
   },
   "outputs": [],
   "source": [
    "scania = Samochod('Scania', 'cos', 'niebieski', 154000, 3000)\n",
    "mazda = Samochod('mazda','6', 'czerwony', 13000, 165)\n"
   ]
  },
  {
   "cell_type": "code",
   "execution_count": 159,
   "metadata": {
    "collapsed": false
   },
   "outputs": [
    {
     "data": {
      "text/plain": [
       "False"
      ]
     },
     "execution_count": 159,
     "metadata": {},
     "output_type": "execute_result"
    }
   ],
   "source": [
    "scania < mazda"
   ]
  },
  {
   "cell_type": "code",
   "execution_count": 163,
   "metadata": {
    "collapsed": false
   },
   "outputs": [
    {
     "data": {
      "text/plain": [
       "True"
      ]
     },
     "execution_count": 163,
     "metadata": {},
     "output_type": "execute_result"
    }
   ],
   "source": [
    "scania.moc > mazda.moc\n"
   ]
  },
  {
   "cell_type": "code",
   "execution_count": 176,
   "metadata": {
    "collapsed": false
   },
   "outputs": [],
   "source": [
    "class Samochod:\n",
    "    ILOSC_KOL = 4\n",
    "    def __init__(self, marka, model, kolor, przebieg, moc, spalanie):\n",
    "        self.marka = marka\n",
    "        self.model = model\n",
    "        self.kolor = kolor\n",
    "        self.przebieg = przebieg\n",
    "        self.moc = moc\n",
    "        self.spalanie = spalanie\n",
    "    \n",
    "\n",
    "    @property\n",
    "    def pelna_nazwa(self):\n",
    "        return \"To jest {} {}\".format(self.marka, self.model)\n",
    "\n",
    "    \n",
    "\n",
    "    # metody specjalne __str__\n",
    "    def __str__(self):\n",
    "        return self.pelna_nazwa\n",
    "    \n",
    "    def __repr__(self):\n",
    "        return \"Obiekt klasy: {}, marka: {}. model {}\".format(\n",
    "            self.__class__,\n",
    "            self.marka,\n",
    "            self.model\n",
    "        )\n",
    "    \n",
    "    def __gt__(self, other):\n",
    "        return self.przebieg > other.przebieg\n",
    "\n",
    "    def wyswietl_przebieg(self):\n",
    "        print (self.przebieg)\n",
    "        \n",
    "    def konwertuj_miele_na_galon_l_na_100km(self):\n",
    "        spalanie_skonwetowane = (100 * 3.785411784) / (1.609344 * self.spalanie)\n",
    "        print (spalanie_skonwetowane)\n",
    "    \n",
    "        \n",
    "    "
   ]
  },
  {
   "cell_type": "code",
   "execution_count": 177,
   "metadata": {
    "collapsed": true
   },
   "outputs": [],
   "source": [
    "scania = Samochod('Scania', 'cos', 'niebieski', 154000, 3000, 12)\n",
    "mazda = Samochod('mazda','6', 'czerwony', 13000, 165,42)"
   ]
  },
  {
   "cell_type": "code",
   "execution_count": 179,
   "metadata": {
    "collapsed": false
   },
   "outputs": [
    {
     "name": "stdout",
     "output_type": "stream",
     "text": [
      "5.600347222222221\n",
      "19.601215277777776\n"
     ]
    }
   ],
   "source": [
    "mazda.konwertuj_miele_na_galon_l_na_100km()\n",
    "scania.konwertuj_miele_na_galon_l_na_100km()"
   ]
  },
  {
   "cell_type": "code",
   "execution_count": null,
   "metadata": {
    "collapsed": true
   },
   "outputs": [],
   "source": []
  }
 ],
 "metadata": {
  "kernelspec": {
   "display_name": "Python 3",
   "language": "python",
   "name": "python3"
  },
  "language_info": {
   "codemirror_mode": {
    "name": "ipython",
    "version": 3
   },
   "file_extension": ".py",
   "mimetype": "text/x-python",
   "name": "python",
   "nbconvert_exporter": "python",
   "pygments_lexer": "ipython3",
   "version": "3.6.0"
  }
 },
 "nbformat": 4,
 "nbformat_minor": 2
}
