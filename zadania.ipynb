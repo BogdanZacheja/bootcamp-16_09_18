{
 "cells": [
  {
   "cell_type": "markdown",
   "metadata": {},
   "source": [
    "# Zadanie 2\n"
   ]
  },
  {
   "cell_type": "code",
   "execution_count": 86,
   "metadata": {
    "collapsed": false
   },
   "outputs": [
    {
     "name": "stdout",
     "output_type": "stream",
     "text": [
      "pierwszy: ania\n",
      "drugi: tomek\n"
     ]
    }
   ],
   "source": [
    "pierwszy = 'ania'\n",
    "drugi = 'tomek'\n",
    "print ('pierwszy:', pierwszy)\n",
    "print ('drugi:' , drugi)"
   ]
  },
  {
   "cell_type": "code",
   "execution_count": 87,
   "metadata": {
    "collapsed": false
   },
   "outputs": [
    {
     "name": "stdout",
     "output_type": "stream",
     "text": [
      "pierwszy: tomek\n",
      "drugi: ania\n"
     ]
    }
   ],
   "source": [
    "pamiec1 = pierwszy\n",
    "pamiec2 = drugi\n",
    "pierwszy = pamiec2\n",
    "drugi = pamiec1\n",
    "print ('pierwszy:', pierwszy)\n",
    "print ('drugi:' , drugi)\n"
   ]
  },
  {
   "cell_type": "markdown",
   "metadata": {},
   "source": [
    "# zadanie 3\n"
   ]
  },
  {
   "cell_type": "code",
   "execution_count": 3,
   "metadata": {
    "collapsed": true
   },
   "outputs": [],
   "source": [
    "trzeci = 'Wierzchoslawa'"
   ]
  },
  {
   "cell_type": "code",
   "execution_count": 7,
   "metadata": {
    "collapsed": false
   },
   "outputs": [
    {
     "name": "stdout",
     "output_type": "stream",
     "text": [
      "5\n",
      "4\n",
      "13\n"
     ]
    }
   ],
   "source": [
    "print (len(pierwszy))\n",
    "print (len(drogi))\n",
    "print (len(trzeci))"
   ]
  },
  {
   "cell_type": "code",
   "execution_count": 13,
   "metadata": {
    "collapsed": true
   },
   "outputs": [],
   "source": [
    "uczestnicy = {'1pierwszy' : 'Tomek',\n",
    "              '2drugi' : 'Ania',\n",
    "              '3trzeci' : 'Wierzchoslawa'}"
   ]
  },
  {
   "cell_type": "code",
   "execution_count": 18,
   "metadata": {
    "collapsed": false,
    "scrolled": true
   },
   "outputs": [
    {
     "name": "stdout",
     "output_type": "stream",
     "text": [
      "5\n",
      "4\n",
      "13\n"
     ]
    }
   ],
   "source": [
    "print (len(uczestnicy['1pierwszy']))\n",
    "print (len(uczestnicy['2drugi']))\n",
    "print (len(uczestnicy['3trzeci']))"
   ]
  },
  {
   "cell_type": "markdown",
   "metadata": {},
   "source": [
    "### Średnia"
   ]
  },
  {
   "cell_type": "code",
   "execution_count": 30,
   "metadata": {
    "collapsed": false
   },
   "outputs": [],
   "source": [
    "uczestnicy_srednia = (len(pierwszy) + len(drugi) + len(trzeci))/3"
   ]
  },
  {
   "cell_type": "code",
   "execution_count": 31,
   "metadata": {
    "collapsed": false
   },
   "outputs": [
    {
     "name": "stdout",
     "output_type": "stream",
     "text": [
      "7.333333333333333\n"
     ]
    }
   ],
   "source": [
    "print (uczestnicy_srednia)"
   ]
  },
  {
   "cell_type": "markdown",
   "metadata": {},
   "source": [
    "### Mediana"
   ]
  },
  {
   "cell_type": "code",
   "execution_count": 89,
   "metadata": {
    "collapsed": false
   },
   "outputs": [],
   "source": [
    "uczestnicy_lista = ['Tomek', 'Ania', 'Wierzchoslawa', 'Basia', 'Adam' ]\n"
   ]
  },
  {
   "cell_type": "code",
   "execution_count": 90,
   "metadata": {
    "collapsed": false
   },
   "outputs": [
    {
     "name": "stdout",
     "output_type": "stream",
     "text": [
      "['Tomek', 'Ania', 'Wierzchoslawa', 'Basia', 'Adam']\n"
     ]
    }
   ],
   "source": [
    "print (uczestnicy_lista)"
   ]
  },
  {
   "cell_type": "code",
   "execution_count": 91,
   "metadata": {
    "collapsed": false
   },
   "outputs": [],
   "source": [
    "uczestnicy_lista.sort()"
   ]
  },
  {
   "cell_type": "code",
   "execution_count": 92,
   "metadata": {
    "collapsed": false
   },
   "outputs": [
    {
     "name": "stdout",
     "output_type": "stream",
     "text": [
      "['Adam', 'Ania', 'Basia', 'Tomek', 'Wierzchoslawa']\n"
     ]
    }
   ],
   "source": [
    "print (sorted(uczestnicy_lista))"
   ]
  },
  {
   "cell_type": "code",
   "execution_count": 93,
   "metadata": {
    "collapsed": false
   },
   "outputs": [
    {
     "name": "stdout",
     "output_type": "stream",
     "text": [
      "Basia\n"
     ]
    }
   ],
   "source": [
    "if len(uczestnicy_lista) % 2 == 1:\n",
    "    print (uczestnicy_lista[len(uczestnicy_lista)// 2])\n",
    "else:\n",
    "    print (uczestnicy_lista[(len(uczestnicy_lista)// 2) -1], uczestnicy_lista[len(uczestnicy_lista)// 2 ]  )\n",
    "    "
   ]
  },
  {
   "cell_type": "markdown",
   "metadata": {},
   "source": [
    "# Zadanie 4"
   ]
  },
  {
   "cell_type": "code",
   "execution_count": 142,
   "metadata": {
    "collapsed": false
   },
   "outputs": [
    {
     "name": "stdout",
     "output_type": "stream",
     "text": [
      "61.72839506172839\n",
      "masz nadwagę\n"
     ]
    }
   ],
   "source": [
    "imie = 'Bogdan'\n",
    "wzrost = 1.80\n",
    "waga = 200\n",
    "bmi= waga / wzrost ** 2\n",
    "print (bmi)\n",
    "if bmi <= 18.5:\n",
    "    print (\"masz niedowagę\")\n",
    "elif bmi > 18.5 and bmi < 25:\n",
    "    print (\"masz prawidłową wagę\")\n",
    "elif bmi >= 25:\n",
    "    print (\"masz nadwagę\")\n",
    "else:\n",
    "    print (\"ERROR\")"
   ]
  },
  {
   "cell_type": "markdown",
   "metadata": {},
   "source": [
    "# Zadanie 5\n"
   ]
  },
  {
   "cell_type": "code",
   "execution_count": 150,
   "metadata": {
    "collapsed": false
   },
   "outputs": [
    {
     "name": "stdout",
     "output_type": "stream",
     "text": [
      "Jest fajnie\n"
     ]
    }
   ],
   "source": [
    "czy_pada = True\n",
    "czy_tydzien_pracy = True\n",
    "czy_bankrut = True\n",
    "czy_fajnie = czy_pada & czy_tydzien_pracy & czy_bankrut\n",
    "if czy_fajnie == True:\n",
    "    print (\"Jest fajnie\")\n",
    "elif czy_fajnie == False:\n",
    "    print (\"Nie jest Fajnie :(\")\n",
    "else:\n",
    "    print (\"ERROR\")\n",
    "    "
   ]
  },
  {
   "cell_type": "markdown",
   "metadata": {},
   "source": [
    "# Zadanie 6"
   ]
  },
  {
   "cell_type": "code",
   "execution_count": 4,
   "metadata": {
    "collapsed": false,
    "scrolled": true
   },
   "outputs": [
    {
     "name": "stdout",
     "output_type": "stream",
     "text": [
      "lista liczb:  [1, 2, 3, 4, 5, 6, 7, 8, 9, 10, 11, 12]\n",
      "lista kwadatów:  [1, 4, 9, 16, 25, 36, 49, 64, 81, 100, 121, 144]\n",
      "lista kwadatów podzielnych przez 3 i mnienjszych niż 30:  [9]\n"
     ]
    }
   ],
   "source": [
    "lista_liczb = [liczba for liczba  in range(1,13)]\n",
    "\n",
    "lista_kwadrat = []\n",
    "for liczba in lista_liczb:\n",
    "    liczba = liczba ** 2\n",
    "    lista_kwadrat.append(liczba)\n",
    "    \n",
    "lista_kwadrat2 = []\n",
    "for liczba in lista_kwadrat:\n",
    "    if liczba % 3 == 0 and liczba < 30:\n",
    "        lista_kwadrat2.append(liczba)\n",
    "        \n",
    "print (\"lista liczb: \", lista_liczb)\n",
    "print (\"lista kwadatów: \", lista_kwadrat)\n",
    "print (\"lista kwadatów podzielnych przez 3 i mnienjszych niż 30: \", lista_kwadrat2)\n",
    "    \n",
    "    \n",
    "\n"
   ]
  },
  {
   "cell_type": "markdown",
   "metadata": {},
   "source": [
    "# Zadanie6* "
   ]
  },
  {
   "cell_type": "code",
   "execution_count": 14,
   "metadata": {
    "collapsed": false,
    "scrolled": true
   },
   "outputs": [
    {
     "data": {
      "image/png": "[encoded data removed]",
      "text/plain": [
       "<matplotlib.figure.Figure at 0x7f3c62d35048>"
      ]
     },
     "metadata": {},
     "output_type": "display_data"
    }
   ],
   "source": [
    "lista_wzrostu = [150,147,186,147,189,148,156,178,193,172,185]\n",
    "lista_wagi = [50,70,85,75,123,65,95,45,80,96,65]\n",
    "import matplotlib.pyplot as plt\n",
    "plt.scatter(lista_wzrostu,lista_wagi)\n",
    "plt.title(\"Zależność wagi od wzrostu\")\n",
    "plt.xlabel(\"Wzrost\")\n",
    "plt.ylabel(\"waga\")\n",
    "plt.show()\n"
   ]
  },
  {
   "cell_type": "markdown",
   "metadata": {},
   "source": [
    "# Zadanie 7"
   ]
  },
  {
   "cell_type": "code",
   "execution_count": 43,
   "metadata": {
    "collapsed": true
   },
   "outputs": [],
   "source": [
    "def Twoje_imie (imie):\n",
    "    print (imie)\n",
    "    return imie"
   ]
  },
  {
   "cell_type": "code",
   "execution_count": 44,
   "metadata": {
    "collapsed": false
   },
   "outputs": [
    {
     "name": "stdout",
     "output_type": "stream",
     "text": [
      "Bogdan\n"
     ]
    },
    {
     "data": {
      "text/plain": [
       "'Bogdan'"
      ]
     },
     "execution_count": 44,
     "metadata": {},
     "output_type": "execute_result"
    }
   ],
   "source": [
    "Twoje_imie(\"Bogdan\")"
   ]
  },
  {
   "cell_type": "code",
   "execution_count": 45,
   "metadata": {
    "collapsed": false
   },
   "outputs": [
    {
     "ename": "NameError",
     "evalue": "name 'none' is not defined",
     "output_type": "error",
     "traceback": [
      "\u001b[0;31m---------------------------------------------------------------------------\u001b[0m",
      "\u001b[0;31mNameError\u001b[0m                                 Traceback (most recent call last)",
      "\u001b[0;32m<ipython-input-45-c8ec6b26f59a>\u001b[0m in \u001b[0;36m<module>\u001b[0;34m()\u001b[0m\n\u001b[0;32m----> 1\u001b[0;31m \u001b[0mTwoje_imie\u001b[0m\u001b[0;34m(\u001b[0m\u001b[0mnone\u001b[0m\u001b[0;34m)\u001b[0m\u001b[0;34m\u001b[0m\u001b[0m\n\u001b[0m",
      "\u001b[0;31mNameError\u001b[0m: name 'none' is not defined"
     ]
    }
   ],
   "source": [
    "Twoje_imie(none)"
   ]
  },
  {
   "cell_type": "markdown",
   "metadata": {},
   "source": [
    "# Zadanie 8"
   ]
  },
  {
   "cell_type": "code",
   "execution_count": 59,
   "metadata": {
    "collapsed": false
   },
   "outputs": [],
   "source": [
    "def Kalkulator_bmi (imie, wzrost, waga):\n",
    "    bmi= waga / wzrost ** 2\n",
    "    print (imie, \" twoje bmi to: \", round(bmi))\n",
    "    if bmi <= 18.5:\n",
    "        print (imie,\" masz niedowagę\")\n",
    "    elif bmi > 18.5 and bmi < 25:\n",
    "        print (imie,\" masz prawidłową wagę\")\n",
    "    elif bmi >= 25:\n",
    "        print (imie, \"masz nadwagę\")\n",
    "    else:\n",
    "        print (\"ERROR\")"
   ]
  },
  {
   "cell_type": "code",
   "execution_count": 60,
   "metadata": {
    "collapsed": false
   },
   "outputs": [
    {
     "name": "stdout",
     "output_type": "stream",
     "text": [
      "Bogdan  twoje bmi to:  5\n",
      "Bogdan  masz niedowagę\n"
     ]
    }
   ],
   "source": [
    "Kalkulator_bmi(\"Bogdan\", 1.52,12)"
   ]
  },
  {
   "cell_type": "markdown",
   "metadata": {},
   "source": [
    "# Zadanie 9"
   ]
  },
  {
   "cell_type": "code",
   "execution_count": 61,
   "metadata": {
    "collapsed": false
   },
   "outputs": [],
   "source": [
    "import numpy as np\n",
    "def Suma_zarobków (dział):\n",
    "    srednia = np.mean(dział)\n",
    "    print (\"Średnia zarobków w dziale \", dział, \"wynosi\", srednia)\n",
    "    "
   ]
  },
  {
   "cell_type": "code",
   "execution_count": 62,
   "metadata": {
    "collapsed": true
   },
   "outputs": [],
   "source": [
    "księgowość = [1546,1855,9856,4131,1458,1234]\n",
    "administracja = [1564,7851,3489,1486,4895,4857]"
   ]
  },
  {
   "cell_type": "code",
   "execution_count": 63,
   "metadata": {
    "collapsed": false
   },
   "outputs": [
    {
     "name": "stdout",
     "output_type": "stream",
     "text": [
      "Średnia zarobków w dziale  [1546, 1855, 9856, 4131, 1458, 1234] wynosi 3346.66666667\n"
     ]
    }
   ],
   "source": [
    "Suma_zarobków(księgowość)"
   ]
  },
  {
   "cell_type": "markdown",
   "metadata": {},
   "source": [
    "# Zadanie 9*"
   ]
  },
  {
   "cell_type": "code",
   "execution_count": null,
   "metadata": {
    "collapsed": false
   },
   "outputs": [],
   "source": [
    "\n"
   ]
  },
  {
   "cell_type": "code",
   "execution_count": null,
   "metadata": {
    "collapsed": false
   },
   "outputs": [],
   "source": []
  },
  {
   "cell_type": "code",
   "execution_count": null,
   "metadata": {
    "collapsed": true
   },
   "outputs": [],
   "source": []
  },
  {
   "cell_type": "code",
   "execution_count": null,
   "metadata": {
    "collapsed": true
   },
   "outputs": [],
   "source": [
    "\n",
    "\n",
    "\n",
    "\n",
    "\n",
    "\n",
    "\n",
    "\n",
    "\n",
    "\n",
    "\n",
    "\n"
   ]
  }
 ],
 "metadata": {
  "kernelspec": {
   "display_name": "Python 3",
   "language": "python",
   "name": "python3"
  },
  "language_info": {
   "codemirror_mode": {
    "name": "ipython",
    "version": 3
   },
   "file_extension": ".py",
   "mimetype": "text/x-python",
   "name": "python",
   "nbconvert_exporter": "python",
   "pygments_lexer": "ipython3",
   "version": "3.6.0"
  }
 },
 "nbformat": 4,
 "nbformat_minor": 2
}
